{
  "cells": [
    {
      "cell_type": "code",
      "execution_count": 14,
      "metadata": {
        "id": "723uo6dgRs7i"
      },
      "outputs": [],
      "source": [
        "import numpy as np\n",
        "import matplotlib.pyplot as plt\n",
        "import statsmodels.api as sm\n",
        "import statsmodels.tsa.seasonal as smts\n",
        "import pandas as pd\n",
        "from statsmodels.tsa.stattools import adfuller\n",
        "\n",
        "plt.style.use('seaborn')"
      ]
    },
    {
      "cell_type": "markdown",
      "metadata": {},
      "source": [
        "Name: Keshav Aggarwal\n",
        "Roll Number: QE2113"
      ]
    },
    {
      "cell_type": "markdown",
      "metadata": {
        "id": "hxKfwaMy6jVZ"
      },
      "source": [
        "# Quiz 3"
      ]
    },
    {
      "cell_type": "code",
      "execution_count": 2,
      "metadata": {
        "id": "fHyGc1hq6nvE"
      },
      "outputs": [],
      "source": [
        "time = np.arange(100)\n",
        "ut = np.random.normal(size=110)"
      ]
    },
    {
      "cell_type": "markdown",
      "metadata": {
        "id": "Gqqo5B1DUu7s"
      },
      "source": [
        "Creating the time series process from the given parameters"
      ]
    },
    {
      "cell_type": "code",
      "execution_count": 11,
      "metadata": {
        "id": "voXRf8ew60Lb"
      },
      "outputs": [],
      "source": [
        "yt = []\n",
        "yt.append(0)\n",
        "for i in range(1,100):\n",
        "    yt.append(1.5*time[i] + 0.5*yt[i-1] + ut[i])"
      ]
    },
    {
      "cell_type": "code",
      "execution_count": 12,
      "metadata": {
        "colab": {
          "base_uri": "https://localhost:8080/",
          "height": 282
        },
        "id": "7OXGMjWW7mts",
        "outputId": "08a1053b-4958-45e1-8d21-59a45e5ab2b1"
      },
      "outputs": [
        {
          "data": {
            "text/plain": [
              "[<matplotlib.lines.Line2D at 0x27d2bc73b20>]"
            ]
          },
          "execution_count": 12,
          "metadata": {},
          "output_type": "execute_result"
        },
        {
          "data": {
            "image/png": "[encoded data removed]",
            "text/plain": [
              "<Figure size 576x396 with 1 Axes>"
            ]
          },
          "metadata": {},
          "output_type": "display_data"
        }
      ],
      "source": [
        "plt.plot(time,yt)"
      ]
    },
    {
      "cell_type": "code",
      "execution_count": 17,
      "metadata": {},
      "outputs": [
        {
          "data": {
            "text/plain": [
              "(0.07257556099141257,\n",
              " 0.7078942746411533,\n",
              " 11,\n",
              " 88,\n",
              " {'1%': -2.5916151807851238,\n",
              "  '5%': -1.944440985689801,\n",
              "  '10%': -1.614115063626972},\n",
              " 264.4027331507218)"
            ]
          },
          "execution_count": 17,
          "metadata": {},
          "output_type": "execute_result"
        }
      ],
      "source": [
        "adfuller(yt,regression=\"n\",)"
      ]
    },
    {
      "cell_type": "markdown",
      "metadata": {
        "id": "fNDLpKurU61R"
      },
      "source": [
        "Running the OLS with one independent variable t"
      ]
    },
    {
      "cell_type": "code",
      "execution_count": 25,
      "metadata": {},
      "outputs": [
        {
          "data": {
            "text/html": [
              "<div>\n",
              "<style scoped>\n",
              "    .dataframe tbody tr th:only-of-type {\n",
              "        vertical-align: middle;\n",
              "    }\n",
              "\n",
              "    .dataframe tbody tr th {\n",
              "        vertical-align: top;\n",
              "    }\n",
              "\n",
              "    .dataframe thead th {\n",
              "        text-align: right;\n",
              "    }\n",
              "</style>\n",
              "<table border=\"1\" class=\"dataframe\">\n",
              "  <thead>\n",
              "    <tr style=\"text-align: right;\">\n",
              "      <th></th>\n",
              "      <th>const</th>\n",
              "      <th>time</th>\n",
              "      <th>Yt-1</th>\n",
              "    </tr>\n",
              "  </thead>\n",
              "  <tbody>\n",
              "    <tr>\n",
              "      <th>0</th>\n",
              "      <td>1.0</td>\n",
              "      <td>0</td>\n",
              "      <td>0.000000</td>\n",
              "    </tr>\n",
              "    <tr>\n",
              "      <th>1</th>\n",
              "      <td>1.0</td>\n",
              "      <td>1</td>\n",
              "      <td>1.898662</td>\n",
              "    </tr>\n",
              "    <tr>\n",
              "      <th>2</th>\n",
              "      <td>1.0</td>\n",
              "      <td>2</td>\n",
              "      <td>4.772926</td>\n",
              "    </tr>\n",
              "    <tr>\n",
              "      <th>3</th>\n",
              "      <td>1.0</td>\n",
              "      <td>3</td>\n",
              "      <td>6.474889</td>\n",
              "    </tr>\n",
              "    <tr>\n",
              "      <th>4</th>\n",
              "      <td>1.0</td>\n",
              "      <td>4</td>\n",
              "      <td>9.841429</td>\n",
              "    </tr>\n",
              "    <tr>\n",
              "      <th>...</th>\n",
              "      <td>...</td>\n",
              "      <td>...</td>\n",
              "      <td>...</td>\n",
              "    </tr>\n",
              "    <tr>\n",
              "      <th>94</th>\n",
              "      <td>1.0</td>\n",
              "      <td>94</td>\n",
              "      <td>279.786957</td>\n",
              "    </tr>\n",
              "    <tr>\n",
              "      <th>95</th>\n",
              "      <td>1.0</td>\n",
              "      <td>95</td>\n",
              "      <td>283.477411</td>\n",
              "    </tr>\n",
              "    <tr>\n",
              "      <th>96</th>\n",
              "      <td>1.0</td>\n",
              "      <td>96</td>\n",
              "      <td>284.927715</td>\n",
              "    </tr>\n",
              "    <tr>\n",
              "      <th>97</th>\n",
              "      <td>1.0</td>\n",
              "      <td>97</td>\n",
              "      <td>288.771054</td>\n",
              "    </tr>\n",
              "    <tr>\n",
              "      <th>98</th>\n",
              "      <td>1.0</td>\n",
              "      <td>98</td>\n",
              "      <td>292.628906</td>\n",
              "    </tr>\n",
              "  </tbody>\n",
              "</table>\n",
              "<p>99 rows × 3 columns</p>\n",
              "</div>"
            ],
            "text/plain": [
              "    const  time        Yt-1\n",
              "0     1.0     0    0.000000\n",
              "1     1.0     1    1.898662\n",
              "2     1.0     2    4.772926\n",
              "3     1.0     3    6.474889\n",
              "4     1.0     4    9.841429\n",
              "..    ...   ...         ...\n",
              "94    1.0    94  279.786957\n",
              "95    1.0    95  283.477411\n",
              "96    1.0    96  284.927715\n",
              "97    1.0    97  288.771054\n",
              "98    1.0    98  292.628906\n",
              "\n",
              "[99 rows x 3 columns]"
            ]
          },
          "execution_count": 25,
          "metadata": {},
          "output_type": "execute_result"
        }
      ],
      "source": [
        "T"
      ]
    },
    {
      "cell_type": "code",
      "execution_count": 24,
      "metadata": {
        "colab": {
          "base_uri": "https://localhost:8080/"
        },
        "id": "xZ3H-oZ28EaA",
        "outputId": "d7c21cff-af2b-4603-95f3-ae78a3d09d27"
      },
      "outputs": [
        {
          "name": "stdout",
          "output_type": "stream",
          "text": [
            "                            OLS Regression Results                            \n",
            "==============================================================================\n",
            "Dep. Variable:                      y   R-squared:                       1.000\n",
            "Model:                            OLS   Adj. R-squared:                  1.000\n",
            "Method:                 Least Squares   F-statistic:                 4.434e+05\n",
            "Date:                Sun, 08 May 2022   Prob (F-statistic):          4.49e-191\n",
            "Time:                        13:21:25   Log-Likelihood:                -128.80\n",
            "No. Observations:                  99   AIC:                             263.6\n",
            "Df Residuals:                      96   BIC:                             271.4\n",
            "Df Model:                           2                                         \n",
            "Covariance Type:            nonrobust                                         \n",
            "==============================================================================\n",
            "                 coef    std err          t      P>|t|      [0.025      0.975]\n",
            "------------------------------------------------------------------------------\n",
            "const          1.4388      0.283      5.083      0.000       0.877       2.001\n",
            "time           1.8422      0.273      6.743      0.000       1.300       2.385\n",
            "Yt-1           0.3838      0.091      4.198      0.000       0.202       0.565\n",
            "==============================================================================\n",
            "Omnibus:                        2.488   Durbin-Watson:                   2.008\n",
            "Prob(Omnibus):                  0.288   Jarque-Bera (JB):                1.630\n",
            "Skew:                          -0.001   Prob(JB):                        0.443\n",
            "Kurtosis:                       2.371   Cond. No.                         742.\n",
            "==============================================================================\n",
            "\n",
            "Notes:\n",
            "[1] Standard Errors assume that the covariance matrix of the errors is correctly specified.\n"
          ]
        }
      ],
      "source": [
        "T = sm.add_constant(pd.DataFrame({'time':time[:-1],\"Yt-1\":yt[:-1]}))\n",
        "linear_model = sm.OLS(yt[1:],T).fit()\n",
        "print(linear_model.summary())"
      ]
    },
    {
      "cell_type": "markdown",
      "metadata": {
        "id": "YfLwXMdSVAo3"
      },
      "source": [
        "Residual sum of squares"
      ]
    },
    {
      "cell_type": "code",
      "execution_count": 46,
      "metadata": {
        "colab": {
          "base_uri": "https://localhost:8080/"
        },
        "id": "0VoCzV7E8I8d",
        "outputId": "85a481d0-985f-4cf4-9a94-fc562bd95b23"
      },
      "outputs": [
        {
          "data": {
            "text/plain": [
              "154.45784743694472"
            ]
          },
          "execution_count": 46,
          "metadata": {},
          "output_type": "execute_result"
        }
      ],
      "source": [
        "np.sum(np.square(linear_model.resid))"
      ]
    },
    {
      "cell_type": "markdown",
      "metadata": {
        "id": "wwegmwr9VC59"
      },
      "source": [
        "OLS with quadratic trend"
      ]
    },
    {
      "cell_type": "code",
      "execution_count": 47,
      "metadata": {
        "colab": {
          "base_uri": "https://localhost:8080/"
        },
        "id": "caLPGxbmAHqD",
        "outputId": "85a93c67-8a03-440b-8752-e950f259d81f"
      },
      "outputs": [
        {
          "name": "stdout",
          "output_type": "stream",
          "text": [
            "                            OLS Regression Results                            \n",
            "==============================================================================\n",
            "Dep. Variable:                      y   R-squared:                       1.000\n",
            "Model:                            OLS   Adj. R-squared:                  1.000\n",
            "Method:                 Least Squares   F-statistic:                 2.544e+05\n",
            "Date:                Tue, 12 Apr 2022   Prob (F-statistic):          3.85e-181\n",
            "Time:                        14:55:04   Log-Likelihood:                -159.63\n",
            "No. Observations:                 100   AIC:                             325.3\n",
            "Df Residuals:                      97   BIC:                             333.1\n",
            "Df Model:                           2                                         \n",
            "Covariance Type:            nonrobust                                         \n",
            "==============================================================================\n",
            "                 coef    std err          t      P>|t|      [0.025      0.975]\n",
            "------------------------------------------------------------------------------\n",
            "const          0.1150      0.357      0.323      0.748      -0.593       0.823\n",
            "t              3.0418      0.017    182.736      0.000       3.009       3.075\n",
            "t^2           -0.0005      0.000     -2.843      0.005      -0.001      -0.000\n",
            "==============================================================================\n",
            "Omnibus:                        0.973   Durbin-Watson:                   1.111\n",
            "Prob(Omnibus):                  0.615   Jarque-Bera (JB):                1.008\n",
            "Skew:                          -0.227   Prob(JB):                        0.604\n",
            "Kurtosis:                       2.812   Cond. No.                     1.30e+04\n",
            "==============================================================================\n",
            "\n",
            "Notes:\n",
            "[1] Standard Errors assume that the covariance matrix of the errors is correctly specified.\n",
            "[2] The condition number is large, 1.3e+04. This might indicate that there are\n",
            "strong multicollinearity or other numerical problems.\n"
          ]
        }
      ],
      "source": [
        "T_sq = pd.DataFrame(T,columns=['const','t'],)\n",
        "T_sq['t^2'] = T_sq['t']**2\n",
        "sq_model = sm.OLS(yt,T_sq).fit()\n",
        "print(sq_model.summary())"
      ]
    },
    {
      "cell_type": "markdown",
      "metadata": {
        "id": "ag-kNqBFVI8O"
      },
      "source": [
        "Residual sum of squares in Quadratic trend"
      ]
    },
    {
      "cell_type": "code",
      "execution_count": 48,
      "metadata": {
        "colab": {
          "base_uri": "https://localhost:8080/"
        },
        "id": "H9uhOPA4BF_Q",
        "outputId": "8efb266b-df7b-40d5-e497-bfd4d3510f87"
      },
      "outputs": [
        {
          "data": {
            "text/plain": [
              "142.58124443800176"
            ]
          },
          "execution_count": 48,
          "metadata": {},
          "output_type": "execute_result"
        }
      ],
      "source": [
        "np.sum(np.square(sq_model.resid))"
      ]
    },
    {
      "cell_type": "markdown",
      "metadata": {
        "id": "IB8-3TKRVOIX"
      },
      "source": [
        "Trend using moving average"
      ]
    },
    {
      "cell_type": "code",
      "execution_count": 53,
      "metadata": {
        "id": "F9F___toOXUR"
      },
      "outputs": [],
      "source": [
        "Tt = pd.Series(yt).rolling(5).mean()[4:]"
      ]
    },
    {
      "cell_type": "code",
      "execution_count": 60,
      "metadata": {
        "colab": {
          "base_uri": "https://localhost:8080/",
          "height": 283
        },
        "id": "_-J1rrVBUhzm",
        "outputId": "d6575fa8-5a37-44cf-d3c6-f8fbc1d090e4"
      },
      "outputs": [
        {
          "data": {
            "text/plain": [
              "[<matplotlib.lines.Line2D at 0x7f55b9874910>]"
            ]
          },
          "execution_count": 60,
          "metadata": {},
          "output_type": "execute_result"
        },
        {
          "data": {
            "image/png": "[encoded data removed]",
            "text/plain": [
              "<Figure size 432x288 with 1 Axes>"
            ]
          },
          "metadata": {
            "needs_background": "light"
          },
          "output_type": "display_data"
        }
      ],
      "source": [
        "plt.plot(Tt)"
      ]
    },
    {
      "cell_type": "code",
      "execution_count": 58,
      "metadata": {
        "id": "QRYVOiopSbuk"
      },
      "outputs": [],
      "source": [
        "Residuals = yt[2:-2]-Tt"
      ]
    },
    {
      "cell_type": "code",
      "execution_count": 59,
      "metadata": {
        "colab": {
          "base_uri": "https://localhost:8080/"
        },
        "id": "0f-dGcMgTwaC",
        "outputId": "0faa821d-9b55-45a5-8490-474254c46047"
      },
      "outputs": [
        {
          "data": {
            "text/plain": [
              "68.19120529930805"
            ]
          },
          "execution_count": 59,
          "metadata": {},
          "output_type": "execute_result"
        }
      ],
      "source": [
        "np.sum(np.square(Residuals))"
      ]
    }
  ],
  "metadata": {
    "colab": {
      "name": "Time series questions",
      "provenance": []
    },
    "kernelspec": {
      "display_name": "Python 3",
      "name": "python3"
    },
    "language_info": {
      "codemirror_mode": {
        "name": "ipython",
        "version": 3
      },
      "file_extension": ".py",
      "mimetype": "text/x-python",
      "name": "python",
      "nbconvert_exporter": "python",
      "pygments_lexer": "ipython3",
      "version": "3.10.4"
    }
  },
  "nbformat": 4,
  "nbformat_minor": 0
}
